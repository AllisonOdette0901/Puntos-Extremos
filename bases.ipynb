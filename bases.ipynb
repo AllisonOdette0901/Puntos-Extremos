{
  "nbformat": 4,
  "nbformat_minor": 0,
  "metadata": {
    "colab": {
      "name": "bases.ipynb",
      "provenance": [],
      "authorship_tag": "ABX9TyPG1JVJaV632PYgP1z2CY9E",
      "include_colab_link": true
    },
    "kernelspec": {
      "name": "python3",
      "display_name": "Python 3"
    },
    "language_info": {
      "name": "python"
    }
  },
  "cells": [
    {
      "cell_type": "markdown",
      "metadata": {
        "id": "view-in-github",
        "colab_type": "text"
      },
      "source": [
        "<a href=\"https://colab.research.google.com/github/AllisonOdette0901/Puntos-Extremos/blob/main/bases.ipynb\" target=\"_parent\"><img src=\"https://colab.research.google.com/assets/colab-badge.svg\" alt=\"Open In Colab\"/></a>"
      ]
    },
    {
      "cell_type": "markdown",
      "metadata": {
        "id": "8Zgy17wvIxb8"
      },
      "source": [
        "**Función para generar soluciones básicas**\n",
        "\n",
        "Las paqueterías necesarias"
      ]
    },
    {
      "cell_type": "code",
      "metadata": {
        "id": "cy1ZsWOdI80N"
      },
      "source": [
        "import numpy as np\n",
        "import pandas as pd"
      ],
      "execution_count": null,
      "outputs": []
    },
    {
      "cell_type": "code",
      "metadata": {
        "id": "6EBr042ZJA7J"
      },
      "source": [
        "def solcuiones_básicas(A,b,ix_B):\n",
        "    Binv = np.linalg.inv(A[:,ix_B])\n",
        "    xB = np.matmul (Binv, b)\n",
        "    return xB\n",
        "    "
      ],
      "execution_count": null,
      "outputs": []
    },
    {
      "cell_type": "code",
      "metadata": {
        "id": "YDV-AVj8Jcz-"
      },
      "source": [
        "A = np.array([[1,1,-1,0,0], [-1,1,0,1,0],[1,-1,0,0,1]])\n",
        "b = [1,3,3]"
      ],
      "execution_count": null,
      "outputs": []
    },
    {
      "cell_type": "code",
      "metadata": {
        "colab": {
          "base_uri": "https://localhost:8080/"
        },
        "id": "5C3t-pxQJr4l",
        "outputId": "b7989940-7a7b-4fc4-c79a-68c3c59e7d94"
      },
      "source": [
        "ix_B = [0,2,3]\n",
        "solcuiones_básicas(A, b, ix_B)"
      ],
      "execution_count": null,
      "outputs": [
        {
          "output_type": "execute_result",
          "data": {
            "text/plain": [
              "array([3., 2., 6.])"
            ]
          },
          "metadata": {},
          "execution_count": 7
        }
      ]
    }
  ]
}